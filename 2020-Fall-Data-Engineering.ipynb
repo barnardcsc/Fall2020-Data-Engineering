{
 "cells": [
  {
   "cell_type": "markdown",
   "metadata": {},
   "source": [
    "#### Introduction\n",
    "\n",
    "SQL (Structured Query Langugage) is the language we use to work with a RDB (relational database). Relational databases are the backbone of many software systems, and offer us the ability to safely store and quickly access large amounts of data.\n",
    "\n",
    "##### How to interface with database?\n",
    " - \"Raw\" SQL inside database console\n",
    " - Application layer (Python, Node, etc.)\n",
    "\n",
    "##### Source data\n",
    " \n",
    "**[2018 - 2019 Arts Data Survey](https://data.cityofnewyork.us/Education/2018-2019-Arts-Data-Survey/5cxm-c27f)**\n",
    "\n",
    "##### Resources\n",
    "**[Google Dataset Search](https://datasetsearch.research.google.com/)**\n",
    "\n",
    "**[PostgreSQL Exercises](https://pgexercises.com/index.html)**\n",
    "\n",
    "---\n",
    "\n",
    "##### Complete sign-in form in STUDENT account:\n",
    "```\n",
    "> Login as Student > Desktop chrome icon > Complete form\n",
    "``` \n",
    "\n",
    "##### Switch to CSCRESEARCHER account:\n",
    "```\n",
    "> Start menu > Person icon > CSC Researcher\n",
    "```\n",
    "\n",
    "##### Open pgAdmin4:\n",
    "```\n",
    "> Search \"pgAdmin4\" in search bar > Open\n",
    "```\n",
    "\n",
    "##### Create a database:\n",
    "```\n",
    "> Double click Servers > Right-click Databases > create > Database...\n",
    "> Database name: art_survey_db\n",
    "```\n",
    "\n",
    "##### Create a table:\n",
    "```\n",
    "> Schemas > Public > (right-click) Tables > Create > Table... > Columns > +\n",
    "Columns:\n",
    "    id: integer (no bracket) \n",
    "    name: text (no bracket) \n",
    "    age: integer (no bracket) \n",
    "```        \n",
    "\n",
    "##### Show Query Editor:\n",
    "```\n",
    "> Tools > Query Editor\n",
    "```\n",
    "\n",
    "##### Add data:\n",
    "```\n",
    "INSERT INTO [schema].[table] VALUES ([column_name], [column_name], [column_name]) VALUES ([value], [value], [value])\n",
    "\n",
    "Note: Replace brackets & identifiers with values\n",
    "```\n",
    "\n",
    "##### Queries:\n",
    "```\n",
    "Execute query with F5 or Bolt icon\n",
    "\n",
    "INSERT INTO public.main (id, name, age) VALUES (1, 'Mary', 30)\n",
    "INSERT INTO public.main (id, name, age) VALUES (2, 'Sam', 50)\n",
    "INSERT INTO public.main (id, name, age) VALUES (3, 'Diana', 25)\n",
    "```"
   ]
  },
  {
   "cell_type": "code",
   "execution_count": null,
   "metadata": {},
   "outputs": [],
   "source": [
    "import requests\n",
    "import pandas as pd\n",
    "import requests\n",
    "import warnings\n",
    "import os\n",
    "warnings.filterwarnings('ignore')\n",
    "root_url = \"https://github.com/Barnard-Computational-Science-Center/data-engineering-fall20/blob/master\"\n",
    "\n",
    "\n",
    "PASSWORD = ''\n",
    "DB = ''\n",
    "USER = 'postgres'\n",
    "HOST = 'localhost'\n",
    "PORT = '5432'\n",
    "\n",
    "\n",
    "def connect(USER, PASSWORD, DB, HOST, PORT):\n",
    "    import sqlalchemy\n",
    "    import psycopg2\n",
    "    url = f'postgresql://{USER}:{PASSWORD}@{HOST}:{PORT}/{DB}'\n",
    "    engine = sqlalchemy.create_engine(url, client_encoding='utf8')\n",
    "    return engine\n",
    "\n",
    "engine = connect(USER, PASSWORD, DB, HOST, PORT)\n",
    "engine"
   ]
  },
  {
   "cell_type": "code",
   "execution_count": null,
   "metadata": {},
   "outputs": [],
   "source": [
    "query = 'create table public.test (column_1 int);'\n",
    "engine.execute(query)"
   ]
  },
  {
   "cell_type": "code",
   "execution_count": null,
   "metadata": {},
   "outputs": [],
   "source": [
    "query = 'INSERT INTO public.test (column_1) VALUES (3)'\n",
    "engine.execute(query)"
   ]
  },
  {
   "cell_type": "code",
   "execution_count": null,
   "metadata": {},
   "outputs": [],
   "source": [
    "query = 'SELECT * FROM public.test'\n",
    "engine.execute(query).fetchall()"
   ]
  },
  {
   "cell_type": "code",
   "execution_count": null,
   "metadata": {},
   "outputs": [],
   "source": [
    "###################\n",
    "##### EXTRACT #####\n",
    "###################\n",
    "\n",
    "#arts_report = \"arts_report.xlsx\"\n",
    "arts_report_url = os.path.join(root_url, 'arts_report.xlsx?raw=true')\n",
    "art_df = pd.read_excel(arts_report_url)\n",
    "\n",
    "cols = list(art_df)[0:17]\n",
    "art_df = art_df[cols]\n",
    "\n",
    "len(art_df)\n",
    "art_df.head()"
   ]
  },
  {
   "cell_type": "code",
   "execution_count": null,
   "metadata": {},
   "outputs": [],
   "source": [
    "#ms_endpoint = \"https://data.cityofnewyork.us/resource/fdpt-nzk4.json\"\n",
    "#ms_df = pd.read_json(ms_endpoint)\n",
    "\n",
    "#ms_data = \"middle_schools.csv\"\n",
    "ms_data_url = os.path.join(root_url, 'middle_schools.csv?raw=true')\n",
    "ms_df = pd.read_csv(ms_data_url, usecols = ['schooldbn', 'name', 'address'])"
   ]
  },
  {
   "cell_type": "code",
   "execution_count": null,
   "metadata": {},
   "outputs": [],
   "source": [
    "########################\n",
    "##### School Table #####\n",
    "########################"
   ]
  },
  {
   "cell_type": "markdown",
   "metadata": {},
   "source": [
    "```\n",
    "New table: school\n",
    "\n",
    "id\n",
    "schooldbn\n",
    "name\n",
    "address\n",
    "\n",
    "-----\n",
    "\n",
    "create table public.school\n",
    "(\n",
    "\tid serial not null\n",
    "\t\tconstraint table_name_pk\n",
    "\t\t\tprimary key,\n",
    "\tschooldbn varchar,\n",
    "\tname varchar,\n",
    "\taddress varchar\n",
    ");\n",
    "```"
   ]
  },
  {
   "cell_type": "code",
   "execution_count": null,
   "metadata": {},
   "outputs": [],
   "source": [
    "ids = list(range(1, len(ms_df) + 1)) # Assign unique schools Ids\n",
    "ms_df['id'] = ids\n",
    "\n",
    "ms_df = ms_df[['id','schooldbn', 'name', 'address']]\n",
    "ms_df.head()"
   ]
  },
  {
   "cell_type": "code",
   "execution_count": null,
   "metadata": {},
   "outputs": [],
   "source": [
    "ms_df.to_sql('school', engine, index = False, if_exists = 'append')\n",
    "print(\"finished.\")"
   ]
  },
  {
   "cell_type": "code",
   "execution_count": null,
   "metadata": {},
   "outputs": [],
   "source": [
    "schools = pd.read_sql_table('school', engine)\n",
    "schools.head()"
   ]
  },
  {
   "cell_type": "code",
   "execution_count": null,
   "metadata": {},
   "outputs": [],
   "source": [
    "########################\n",
    "##### Person Table #####\n",
    "########################"
   ]
  },
  {
   "cell_type": "code",
   "execution_count": null,
   "metadata": {},
   "outputs": [],
   "source": [
    "# Filter values\n",
    "filter_list = ms_df['schooldbn']\n",
    "art_df = art_df[art_df['Q0_DBN'].isin(filter_list)]\n",
    "len(art_df)"
   ]
  },
  {
   "cell_type": "code",
   "execution_count": null,
   "metadata": {},
   "outputs": [],
   "source": [
    "school_mapper = dict(ms_df[['schooldbn', 'id']].values)\n",
    "art_df['Q0_DBN'] = art_df['Q0_DBN'].map(school_mapper)\n",
    "art_df.head()"
   ]
  },
  {
   "cell_type": "code",
   "execution_count": null,
   "metadata": {},
   "outputs": [],
   "source": [
    "renamed_columns = {\n",
    "    \"Q0_DBN\": \"school_id\", \n",
    "    \"Q1_1\": \"first_name\", \n",
    "    \"Q1_2\": \"last_name\",\n",
    "    \"Q1_3\": \"email\"\n",
    "}\n",
    "\n",
    "art_df.rename(columns = renamed_columns, inplace = True)\n",
    "art_df = art_df.dropna(subset = ['first_name', 'last_name', 'email'], how = 'any')\n",
    "art_df.head()"
   ]
  },
  {
   "cell_type": "markdown",
   "metadata": {},
   "source": [
    "```\n",
    "New Table: person\n",
    "\n",
    "id\n",
    "school_id --> school(id)\n",
    "first_name\n",
    "last_name\n",
    "email\n",
    "\n",
    "-----\n",
    "\n",
    "create table person\n",
    "(\n",
    "\tid serial not null\n",
    "\t\tconstraint person_pk\n",
    "\t\t\tprimary key,\n",
    "\n",
    "    school_id int not null,\n",
    "\tfirst_name varchar not null,\n",
    "\tlast_name varchar not null,\n",
    "\temail varchar not null,\n",
    "\n",
    "\tforeign key (school_id) references school(id)\n",
    ");\n",
    "```"
   ]
  },
  {
   "cell_type": "code",
   "execution_count": null,
   "metadata": {
    "scrolled": false
   },
   "outputs": [],
   "source": [
    "person_columns = ['school_id', 'first_name', 'last_name', 'email']\n",
    "person_df = art_df[person_columns]\n",
    "ids = list(range(1, len(person_df) + 1))\n",
    "person_df['id'] = ids\n",
    "person_df = person_df[['id','school_id', 'first_name', 'last_name', 'email']]\n",
    "person_df.head()"
   ]
  },
  {
   "cell_type": "code",
   "execution_count": null,
   "metadata": {},
   "outputs": [],
   "source": [
    "person_df.to_sql('person', engine, index = False, if_exists = 'append')\n",
    "print(\"finished.\")"
   ]
  },
  {
   "cell_type": "code",
   "execution_count": null,
   "metadata": {
    "scrolled": true
   },
   "outputs": [],
   "source": [
    "query = \"INSERT INTO public.person (first_name, last_name, email) VALUES ('ted', 'smith', 'tsmith@gmail.com')\"\n",
    "engine.execute(query)"
   ]
  },
  {
   "cell_type": "code",
   "execution_count": null,
   "metadata": {},
   "outputs": [],
   "source": [
    "############################\n",
    "#####  Question Table ######\n",
    "############################"
   ]
  },
  {
   "cell_type": "markdown",
   "metadata": {},
   "source": [
    "```\n",
    "Example schema: \n",
    "https://stackoverflow.com/questions/1764435/database-design-for-a-survey\n",
    "\n",
    "New Table: question\n",
    "\n",
    "id\n",
    "question_name\n",
    "question_type\n",
    "question\n",
    "\n",
    "-----\n",
    "\n",
    "create table question\n",
    "\n",
    "(\n",
    "\tid serial not null\n",
    "\t\tconstraint question_pk\n",
    "\t\t\tprimary key,\n",
    "\n",
    "    question_name varchar not null,\n",
    "    question_type varchar not null,\n",
    "\tquestion varchar not null\n",
    "\n",
    ");\n",
    "```"
   ]
  },
  {
   "cell_type": "code",
   "execution_count": null,
   "metadata": {},
   "outputs": [],
   "source": [
    "question_url = os.path.join(root_url, \"question.json?raw=true\")\n",
    "question_df = pd.read_json(question_url)\n",
    "ids = list(range(1, len(question_df) + 1))\n",
    "question_df['id'] = ids\n",
    "question_columns = ['id', 'question_name', 'question_type', 'question']\n",
    "question_df = question_df[question_columns]\n",
    "question_df.head()"
   ]
  },
  {
   "cell_type": "code",
   "execution_count": null,
   "metadata": {},
   "outputs": [],
   "source": [
    "question_df.to_sql('question', engine, index = False, if_exists = 'append')\n",
    "print(\"finished.\")"
   ]
  },
  {
   "cell_type": "code",
   "execution_count": null,
   "metadata": {},
   "outputs": [],
   "source": [
    "############################\n",
    "#####  Response Table ######\n",
    "############################"
   ]
  },
  {
   "cell_type": "markdown",
   "metadata": {},
   "source": [
    "```\n",
    "New Table: response\n",
    "\n",
    "id\n",
    "person_id --> person(id)\n",
    "question_id --> question(id)\n",
    "response\n",
    "\n",
    "-----\n",
    "\n",
    "create table response\n",
    "\n",
    "(\n",
    "\tid serial not null\n",
    "\t\tconstraint response_pk\n",
    "\t\t\tprimary key,\n",
    "\n",
    "    person_id int not null,\n",
    "    question_id int not null,\n",
    "\tresponse varchar not null,\n",
    "    \n",
    "    foreign key (person_id) references person(id),\n",
    "    foreign key (question_id) references question(id)\n",
    "\n",
    ");\n",
    "```"
   ]
  },
  {
   "cell_type": "code",
   "execution_count": null,
   "metadata": {},
   "outputs": [],
   "source": [
    "art_df.head()"
   ]
  },
  {
   "cell_type": "code",
   "execution_count": null,
   "metadata": {},
   "outputs": [],
   "source": [
    "drop_columns = ['school_id','first_name', 'last_name']\n",
    "art_df.drop(drop_columns, axis = 1, inplace = True)"
   ]
  },
  {
   "cell_type": "code",
   "execution_count": null,
   "metadata": {},
   "outputs": [],
   "source": [
    "person_mapper = dict(person_df[['email', 'id']].values)\n",
    "art_df['email'] = art_df['email'].map(person_mapper)\n",
    "art_df.rename(columns = {'email': 'person_id'}, inplace = True)"
   ]
  },
  {
   "cell_type": "code",
   "execution_count": null,
   "metadata": {},
   "outputs": [],
   "source": [
    "art_df.head()"
   ]
  },
  {
   "cell_type": "markdown",
   "metadata": {},
   "source": [
    "```\n",
    " What should the data look like in a relational database? What about Python?\n",
    " ~~~~~~~~~~~~~~~~~~~~~~~~~~~~~~~~~~~~~~~~~~~~~~~~~~~~~~~~~~~~~~~~~~~~~~~~~~~\n",
    "\n",
    "{\"id\": 1, \"person_id\": 1, \"question_id\": 1, \"response\": \"0\"},\n",
    "{\"id\": 2, \"person_id\": 1, \"question_id\": 2, \"response\": \"0\"},\n",
    "{\"id\": 3, \"person_id\": 1, \"question_id\": 3, \"response\": \"1\"},\n",
    "{\"id\": 4, \"person_id\": 1, \"question_id\": 4, \"response\": \"0\"},\n",
    " ....\n",
    " ...\n",
    " ..\n",
    " .\n",
    " ..\n",
    " ...\n",
    " ....\n",
    "{\"id\": 433, \"person_id\": 1, \"question_id\": 10, \"response\": \"0\"},\n",
    "{\"id\": 433, \"person_id\": 1, \"question_id\": 11, \"response\": \"0\"},\n",
    "{\"id\": 433, \"person_id\": 1, \"question_id\": 12, \"response\": \"1\"},\n",
    "{\"id\": 433, \"person_id\": 1, \"question_id\": 13, \"response\": \"0\"}\n",
    "```"
   ]
  },
  {
   "cell_type": "code",
   "execution_count": null,
   "metadata": {},
   "outputs": [],
   "source": [
    "response_df = art_df.copy()\n",
    "response_melted = response_df.melt(id_vars = ['person_id'], var_name ='question_id', value_name = 'response')\n",
    "response_melted.sort_values(by=['person_id', 'question_id'], inplace = True)\n",
    "#response_melted.loc[(response_melted['person_id'] == 5) & (response_melted['variable'] == 2)] # check to see if it worked."
   ]
  },
  {
   "cell_type": "code",
   "execution_count": null,
   "metadata": {},
   "outputs": [],
   "source": [
    "response_melted.head()"
   ]
  },
  {
   "cell_type": "code",
   "execution_count": null,
   "metadata": {},
   "outputs": [],
   "source": [
    "response_melted.tail()"
   ]
  },
  {
   "cell_type": "code",
   "execution_count": null,
   "metadata": {},
   "outputs": [],
   "source": [
    "response_mapper = dict(question_df[['question_name', 'id']].values)\n",
    "response_melted['question_id'] = response_melted['question_id'].map(response_mapper)"
   ]
  },
  {
   "cell_type": "code",
   "execution_count": null,
   "metadata": {
    "scrolled": false
   },
   "outputs": [],
   "source": [
    "response_melted"
   ]
  },
  {
   "cell_type": "code",
   "execution_count": null,
   "metadata": {},
   "outputs": [],
   "source": [
    "ids = list(range(1, len(response_melted) + 1))\n",
    "response_melted['id'] = ids\n",
    "response_melted = response_melted[['id', 'person_id','question_id','response']]"
   ]
  },
  {
   "cell_type": "code",
   "execution_count": null,
   "metadata": {},
   "outputs": [],
   "source": [
    "response_melted"
   ]
  },
  {
   "cell_type": "code",
   "execution_count": null,
   "metadata": {},
   "outputs": [],
   "source": [
    "response_melted.to_sql('response', engine, index = False, if_exists = 'append')\n",
    "print(\"finished.\")"
   ]
  },
  {
   "cell_type": "code",
   "execution_count": null,
   "metadata": {},
   "outputs": [],
   "source": []
  },
  {
   "cell_type": "code",
   "execution_count": null,
   "metadata": {},
   "outputs": [],
   "source": []
  }
 ],
 "metadata": {
  "kernelspec": {
   "display_name": "Python 3",
   "language": "python",
   "name": "python3"
  },
  "language_info": {
   "codemirror_mode": {
    "name": "ipython",
    "version": 3
   },
   "file_extension": ".py",
   "mimetype": "text/x-python",
   "name": "python",
   "nbconvert_exporter": "python",
   "pygments_lexer": "ipython3",
   "version": "3.7.4"
  }
 },
 "nbformat": 4,
 "nbformat_minor": 2
}
